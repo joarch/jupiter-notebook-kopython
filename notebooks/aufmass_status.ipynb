{
 "cells": [
  {
   "cell_type": "code",
   "execution_count": 1,
   "id": "97229c7a-1bb0-4764-bf70-d836bba0c226",
   "metadata": {},
   "outputs": [],
   "source": [
    "# Connect to Database\n",
    "import os\n",
    "\n",
    "database_url = os.environ[\"database_url\"]\n",
    "verbose = False\n",
    "\n",
    "from sqlalchemy import create_engine\n",
    "from sqlalchemy.orm import sessionmaker\n",
    "\n",
    "session = sessionmaker(bind=create_engine(database_url, echo=False), autoflush=False)()"
   ]
  },
  {
   "cell_type": "code",
   "execution_count": 2,
   "id": "6f77bb54-1dd7-4ac0-94ac-21dce10fc462",
   "metadata": {},
   "outputs": [],
   "source": [
    "# Select Daten aus dem Statistik Job\n",
    "\n",
    "import json\n",
    "from sqlalchemy import func\n",
    "from kolonne.database.models import Job, JobHistorie\n",
    "\n",
    "job, historie = session.query(Job, JobHistorie).join(JobHistorie).filter(Job.name == 'statistik').order_by(JobHistorie.zeitpunkt.desc()).first()\n",
    "    \n",
    "zeitpunkt = historie.zeitpunkt\n",
    "\n",
    "data_historie = list(filter(lambda r: r and not r.startswith(\"#\") and not r.startswith(\"*\"), historie.ergebnis_text.split(\"\\n\")))[0]\n",
    "\n",
    "data_historie = json.loads(data_historie)\n",
    "\n",
    "if verbose:\n",
    "    print(data_historie)"
   ]
  },
  {
   "cell_type": "code",
   "execution_count": 3,
   "id": "eec8385d-b33a-4711-b1a2-b29bfec3ff13",
   "metadata": {},
   "outputs": [],
   "source": [
    "# Anzahl Aufmass im jeweiligen Status\n",
    "\n",
    "from kolonne.database.models import get_status_str\n",
    "\n",
    "data_status_count = data_historie[\"status_count\"]\n",
    "if verbose:\n",
    "    print(data_status_count)\n",
    "    \n",
    "# Anzahl zusammenfassen\n",
    "\n",
    "exclude_status = [\"A\"]\n",
    "\n",
    "data = dict()\n",
    "for d in filter(lambda d: d[\"status\"] not in exclude_status, data_status_count):\n",
    "    status = get_status_str(d[\"status\"])\n",
    "    current = data.get(status, 0)\n",
    "    data[status] = current + d[\"status__count\"]\n",
    "\n",
    "if verbose:\n",
    "    print(data)"
   ]
  },
  {
   "cell_type": "code",
   "execution_count": 4,
   "id": "d5267950-6d0f-4762-a921-cf0757414d5a",
   "metadata": {},
   "outputs": [],
   "source": [
    "columns = [\"Status\", \"Anzahl\"]\n",
    "\n",
    "data_csv = list(data.items())\n",
    "\n",
    "if verbose:\n",
    "    print(data_csv)   "
   ]
  },
  {
   "cell_type": "code",
   "execution_count": 5,
   "id": "60eaeeb5-d0a1-4d36-82eb-e31dfdd482e4",
   "metadata": {},
   "outputs": [],
   "source": [
    "# DataFrame erstellen\n",
    "\n",
    "import pandas as pd\n",
    "\n",
    "data_frame = pd.DataFrame.from_records(data_csv, columns=columns)\n",
    "\n",
    "if verbose:\n",
    "    print(data_frame)\n"
   ]
  },
  {
   "cell_type": "code",
   "execution_count": null,
   "id": "269e473a-bb5e-4965-b008-c9d1ae961453",
   "metadata": {},
   "outputs": [],
   "source": [
    "# Diagramm erstellen\n",
    "\n",
    "import matplotlib.pyplot as plt\n",
    "import seaborn as sn\n",
    "\n",
    "sn.set(font_scale=1.0)\n",
    "fig, ax = plt.subplots(figsize=(20,7))\n",
    "\n",
    "# labels = data_frame.loc[:,'Status'].values\n",
    "\n",
    "labels = [f\"{d[0]}: {d[1]}\" for d in data_csv]\n",
    "anzahl = data_frame.loc[:,'Anzahl'].values\n",
    "\n",
    "\n",
    "ax.pie(anzahl, labels=labels,\n",
    "       shadow=False, startangle=0,\n",
    "       pctdistance=1.2,labeldistance=1.4)\n",
    "ax.axis('equal')\n",
    "\n",
    "ax.set_title(f\"Aufmaß Status {zeitpunkt}\", y=1.3, fontsize = 16)\n",
    "ax.legend(frameon=True, bbox_to_anchor=(1,0.8))\n",
    "\n",
    "# Kontextmenü \"Create New View for Output\" um das Bild zu speichern"
   ]
  }
 ],
 "metadata": {
  "kernelspec": {
   "display_name": "Python 3 (ipykernel)",
   "language": "python",
   "name": "python3"
  },
  "language_info": {
   "codemirror_mode": {
    "name": "ipython",
    "version": 3
   },
   "file_extension": ".py",
   "mimetype": "text/x-python",
   "name": "python",
   "nbconvert_exporter": "python",
   "pygments_lexer": "ipython3",
   "version": "3.8.1"
  }
 },
 "nbformat": 4,
 "nbformat_minor": 5
}
