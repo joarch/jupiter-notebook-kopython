{
 "cells": [
  {
   "cell_type": "code",
   "execution_count": null,
   "id": "ea0886da-fbb4-4c69-b52f-1121292c8755",
   "metadata": {},
   "outputs": [],
   "source": [
    "# Connect to Database\n",
    "import os\n",
    "\n",
    "database_url = os.environ[\"database_url\"]\n",
    "verbose = False\n",
    "\n",
    "from sqlalchemy import create_engine\n",
    "from sqlalchemy.orm import sessionmaker\n",
    "\n",
    "session = sessionmaker(bind=create_engine(database_url, echo=False), autoflush=False)()"
   ]
  },
  {
   "cell_type": "code",
   "execution_count": null,
   "id": "821abae7-d26c-4c09-950c-828c4599935f",
   "metadata": {},
   "outputs": [],
   "source": [
    "# Select Daten aus dem Statistik Job\n",
    "\n",
    "import json\n",
    "from sqlalchemy import func\n",
    "from kolonne.database.models import Job, JobHistorie\n",
    "\n",
    "_, historie, zeitpunkt = session.query(Job, JobHistorie, func.max(JobHistorie.zeitpunkt)).join(JobHistorie).filter(Job.name == 'statistik').first()\n",
    "\n",
    "data_historie = list(filter(lambda r: r and not r.startswith(\"#\") and not r.startswith(\"*\"), historie.ergebnis_text.split(\"\\n\")))[0]\n",
    "\n",
    "data_historie = json.loads(data_historie)\n",
    "\n",
    "if verbose:\n",
    "    print(data_historie)\n"
   ]
  },
  {
   "cell_type": "code",
   "execution_count": null,
   "id": "25366489-4de2-44bd-8de9-141a03eb13ea",
   "metadata": {},
   "outputs": [],
   "source": [
    "# Filter Status In Arbeit\n",
    "\n",
    "status_str = \"In Arbeit\"\n",
    "status = \"I\"\n",
    "\n",
    "data_status_count = data_historie[\"status_count\"]\n",
    "\n",
    "if verbose:\n",
    "    print(data_status_count)\n",
    "\n",
    "data = [d for d in data_status_count if d[\"status\"] == status]\n",
    "\n",
    "if verbose:\n",
    "    print(data)"
   ]
  },
  {
   "cell_type": "code",
   "execution_count": null,
   "id": "65d7079d-3fde-4e92-b03e-efef0e4736ce",
   "metadata": {},
   "outputs": [],
   "source": [
    "# Filter Spalten in neue CSV Liste\n",
    "\n",
    "columns = [\"Kostenstelle\", \"Anzahl\"]\n",
    "\n",
    "data_csv = [(d['kolonne__bezeichnung'],d['status__count']) for d in data]\n",
    "\n",
    "if verbose:\n",
    "    print(data_csv)"
   ]
  },
  {
   "cell_type": "code",
   "execution_count": null,
   "id": "ae55baac-49f3-40a3-8a7d-188abb9563ae",
   "metadata": {},
   "outputs": [],
   "source": [
    "# DataFrame erstellen\n",
    "\n",
    "import pandas as pd\n",
    "\n",
    "data_frame = pd.DataFrame.from_records(data_csv, columns=columns)\n",
    "\n",
    "if verbose:\n",
    "    print(data_frame)"
   ]
  },
  {
   "cell_type": "code",
   "execution_count": null,
   "id": "0637dc1f-1251-4937-b176-b2d4b83cb64e",
   "metadata": {},
   "outputs": [],
   "source": [
    "# Diagramm erstellen\n",
    "\n",
    "import matplotlib.pyplot as plt\n",
    "import seaborn as sn\n",
    "\n",
    "sn.set(font_scale=1.0)\n",
    "fig, ax = plt.subplots(figsize=(20,7))\n",
    "\n",
    "labels = data_frame.loc[:,'Kostenstelle'].values\n",
    "ax.set_xticks(range(len(labels)))\n",
    "ax.set_xticklabels(labels, rotation=50)\n",
    "\n",
    "plot = sn.lineplot(x=\"Kostenstelle\", y=\"Anzahl\", data=data_frame, ax=ax)\n",
    "plot.set_title(f\"Anzahl Aufmaße im Status '{status_str}', Zeitpunkt: {zeitpunkt}\")\n",
    "\n",
    "# Kontextmenü \"Create New View for Output\" um das Bild zu speichern\n"
   ]
  }
 ],
 "metadata": {
  "kernelspec": {
   "display_name": "Python 3 (ipykernel)",
   "language": "python",
   "name": "python3"
  },
  "language_info": {
   "codemirror_mode": {
    "name": "ipython",
    "version": 3
   },
   "file_extension": ".py",
   "mimetype": "text/x-python",
   "name": "python",
   "nbconvert_exporter": "python",
   "pygments_lexer": "ipython3",
   "version": "3.8.1"
  }
 },
 "nbformat": 4,
 "nbformat_minor": 5
}
