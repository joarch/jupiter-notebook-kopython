{
 "cells": [
  {
   "cell_type": "code",
   "execution_count": 184,
   "id": "2a314075-28ce-46e2-bee4-db5acccdfd7e",
   "metadata": {},
   "outputs": [],
   "source": [
    "# Connect to Database\n",
    "import os\n",
    "\n",
    "database_url = os.environ[\"database_url2\"]\n",
    "verbose = True\n",
    "\n",
    "from sqlalchemy import create_engine\n",
    "from sqlalchemy.orm import sessionmaker\n",
    "from sqlalchemy.ext.automap import automap_base\n",
    "\n",
    "Base = automap_base()\n",
    "\n",
    "engine = create_engine(database_url, echo=False)\n",
    "Base.prepare(engine, reflect=True)\n",
    "\n",
    "session = sessionmaker(bind=engine, autoflush=False)()\n"
   ]
  },
  {
   "cell_type": "code",
   "execution_count": 192,
   "id": "a4714da6-01dd-4233-88a9-50cbf1a91782",
   "metadata": {},
   "outputs": [
    {
     "name": "stdout",
     "output_type": "stream",
     "text": [
      "{'0103': 12, '0104': 3, '0105': 7, '0107': 21, '0109': 5, '0113': 18, '0115': 7, '0116': 4, '0200': 1}\n"
     ]
    }
   ],
   "source": [
    "# Select Daten aus der stunden Datenbank\n",
    "from sqlalchemy import func\n",
    "\n",
    "ereignisse = [\"K\", \"COR\"]\n",
    "zeitpunkt = \"Monat Oktober 2021\"\n",
    "\n",
    "MitarbeiterEreignis = Base.classes.stunden_mitarbeiterereignis\n",
    "Mitarbeiter = Base.classes.stunden_mitarbeiter\n",
    "Kostenstelle = Base.classes.stunden_kostenstelle\n",
    "\n",
    "q = session.query(Kostenstelle.kennung, func.count(Kostenstelle.kennung)).select_from(MitarbeiterEreignis).join(Mitarbeiter).join(Kostenstelle, Kostenstelle.id == Mitarbeiter.kostenstelle_id) \\\n",
    "    .filter(MitarbeiterEreignis.datum >= '2021-10-01', MitarbeiterEreignis.datum <= '2021-10-31')\\\n",
    "    .filter(MitarbeiterEreignis.ganztaegig.in_(ereignisse))\\\n",
    "    .order_by(Kostenstelle.kennung)\\\n",
    "    .group_by(Kostenstelle.kennung)\n",
    "  \n",
    "kostenstelle_ausfalltage = {d[0]: d[1] for d in list(q)}\n",
    "\n",
    "if verbose:\n",
    "    print(kostenstelle_ausfalltage)"
   ]
  },
  {
   "cell_type": "code",
   "execution_count": 193,
   "id": "0310d1a7-690f-43ee-aa01-cc8404b9943a",
   "metadata": {},
   "outputs": [
    {
     "name": "stdout",
     "output_type": "stream",
     "text": [
      "{'0101': 14, '0103': 114, '0104': 233, '0105': 206, '0107': 33, '0108': 20, '0109': 58, '0110': 34, '0111': 2, '0112': 160, '0113': 63, '0114': 33, '0115': 45, '0116': 96, '0120': 1, '0200': 57, '0201': 4}\n"
     ]
    }
   ],
   "source": [
    "# Select Daten aus der stunden Datenbank\n",
    "from sqlalchemy import func\n",
    "\n",
    "MitarbeiterStunden = Base.classes.stunden_mitarbeiterstunden\n",
    "Mitarbeiter = Base.classes.stunden_mitarbeiter\n",
    "Kostenstelle = Base.classes.stunden_kostenstelle\n",
    "\n",
    "q = session.query(Kostenstelle.kennung, func.count(Kostenstelle.kennung)).select_from(MitarbeiterStunden).join(Kostenstelle) \\\n",
    "    .filter(MitarbeiterStunden.datum >= '2021-10-01', MitarbeiterStunden.datum <= '2021-10-31')\\\n",
    "    .order_by(Kostenstelle.kennung) \\\n",
    "    .group_by(Kostenstelle.kennung)\n",
    "\n",
    "kostenstelle_ausfuehrtage = {d[0]: d[1] for d in list(q)}\n",
    "\n",
    "if verbose:\n",
    "    print(kostenstelle_ausfuehrtage)\n",
    "    "
   ]
  },
  {
   "cell_type": "code",
   "execution_count": 194,
   "id": "c33255c5-4498-4899-8cbd-6271629b7da2",
   "metadata": {},
   "outputs": [
    {
     "name": "stdout",
     "output_type": "stream",
     "text": [
      "[{'Kostenstelle': '0101', 'Typ': 'Ausführtage', 'Anzahl': 14}, {'Kostenstelle': '0101', 'Typ': 'Ausfalltage', 'Anzahl': 0}, {'Kostenstelle': '0102', 'Typ': 'Ausführtage', 'Anzahl': 0}, {'Kostenstelle': '0102', 'Typ': 'Ausfalltage', 'Anzahl': 0}, {'Kostenstelle': '0103', 'Typ': 'Ausführtage', 'Anzahl': 114}, {'Kostenstelle': '0103', 'Typ': 'Ausfalltage', 'Anzahl': 12}, {'Kostenstelle': '0104', 'Typ': 'Ausführtage', 'Anzahl': 233}, {'Kostenstelle': '0104', 'Typ': 'Ausfalltage', 'Anzahl': 3}, {'Kostenstelle': '0105', 'Typ': 'Ausführtage', 'Anzahl': 206}, {'Kostenstelle': '0105', 'Typ': 'Ausfalltage', 'Anzahl': 7}, {'Kostenstelle': '0106', 'Typ': 'Ausführtage', 'Anzahl': 0}, {'Kostenstelle': '0106', 'Typ': 'Ausfalltage', 'Anzahl': 0}, {'Kostenstelle': '0107', 'Typ': 'Ausführtage', 'Anzahl': 33}, {'Kostenstelle': '0107', 'Typ': 'Ausfalltage', 'Anzahl': 21}, {'Kostenstelle': '0108', 'Typ': 'Ausführtage', 'Anzahl': 20}, {'Kostenstelle': '0108', 'Typ': 'Ausfalltage', 'Anzahl': 0}, {'Kostenstelle': '0109', 'Typ': 'Ausführtage', 'Anzahl': 58}, {'Kostenstelle': '0109', 'Typ': 'Ausfalltage', 'Anzahl': 5}, {'Kostenstelle': '0110', 'Typ': 'Ausführtage', 'Anzahl': 34}, {'Kostenstelle': '0110', 'Typ': 'Ausfalltage', 'Anzahl': 0}, {'Kostenstelle': '0111', 'Typ': 'Ausführtage', 'Anzahl': 2}, {'Kostenstelle': '0111', 'Typ': 'Ausfalltage', 'Anzahl': 0}, {'Kostenstelle': '0112', 'Typ': 'Ausführtage', 'Anzahl': 160}, {'Kostenstelle': '0112', 'Typ': 'Ausfalltage', 'Anzahl': 0}, {'Kostenstelle': '0113', 'Typ': 'Ausführtage', 'Anzahl': 63}, {'Kostenstelle': '0113', 'Typ': 'Ausfalltage', 'Anzahl': 18}, {'Kostenstelle': '0114', 'Typ': 'Ausführtage', 'Anzahl': 33}, {'Kostenstelle': '0114', 'Typ': 'Ausfalltage', 'Anzahl': 0}, {'Kostenstelle': '0115', 'Typ': 'Ausführtage', 'Anzahl': 45}, {'Kostenstelle': '0115', 'Typ': 'Ausfalltage', 'Anzahl': 7}, {'Kostenstelle': '0116', 'Typ': 'Ausführtage', 'Anzahl': 96}, {'Kostenstelle': '0116', 'Typ': 'Ausfalltage', 'Anzahl': 4}, {'Kostenstelle': '0120', 'Typ': 'Ausführtage', 'Anzahl': 1}, {'Kostenstelle': '0120', 'Typ': 'Ausfalltage', 'Anzahl': 0}, {'Kostenstelle': '0200', 'Typ': 'Ausführtage', 'Anzahl': 57}, {'Kostenstelle': '0200', 'Typ': 'Ausfalltage', 'Anzahl': 1}, {'Kostenstelle': '0201', 'Typ': 'Ausführtage', 'Anzahl': 4}, {'Kostenstelle': '0201', 'Typ': 'Ausfalltage', 'Anzahl': 0}, {'Kostenstelle': '0500', 'Typ': 'Ausführtage', 'Anzahl': 0}, {'Kostenstelle': '0500', 'Typ': 'Ausfalltage', 'Anzahl': 0}]\n"
     ]
    }
   ],
   "source": [
    "# merge Listen Ausfalltage und Ausfühtage\n",
    "\n",
    "q = session.query(Kostenstelle.kennung).order_by(\"kennung\").all()\n",
    "alle_kostenstellen = [k[0] for k in list(q)]\n",
    "\n",
    "data = list()\n",
    "for kostenstelle in alle_kostenstellen:\n",
    "    # data.append({\"kostenstelle\": kostenstelle, \"ausfuehrtage\": kostenstelle_ausfuehrtage.get(kostenstelle, 0), \"ausfalltage\": kostenstelle_ausfalltage.get(kostenstelle, 0)})\n",
    "    data.append({\"Kostenstelle\": kostenstelle, \"Typ\": \"Ausführtage\", \"Anzahl\": kostenstelle_ausfuehrtage.get(kostenstelle, 0)})\n",
    "    data.append({\"Kostenstelle\": kostenstelle, \"Typ\": \"Ausfalltage\", \"Anzahl\": kostenstelle_ausfalltage.get(kostenstelle, 0)})\n",
    "\n",
    "if verbose:\n",
    "    print(data)\n",
    "\n",
    "    "
   ]
  },
  {
   "cell_type": "code",
   "execution_count": 195,
   "id": "761fa22d-cd26-41f5-951a-859641669659",
   "metadata": {},
   "outputs": [
    {
     "name": "stdout",
     "output_type": "stream",
     "text": [
      "   Kostenstelle          Typ  Anzahl\n",
      "0          0101  Ausführtage      14\n",
      "1          0101  Ausfalltage       0\n",
      "2          0102  Ausführtage       0\n",
      "3          0102  Ausfalltage       0\n",
      "4          0103  Ausführtage     114\n",
      "5          0103  Ausfalltage      12\n",
      "6          0104  Ausführtage     233\n",
      "7          0104  Ausfalltage       3\n",
      "8          0105  Ausführtage     206\n",
      "9          0105  Ausfalltage       7\n",
      "10         0106  Ausführtage       0\n",
      "11         0106  Ausfalltage       0\n",
      "12         0107  Ausführtage      33\n",
      "13         0107  Ausfalltage      21\n",
      "14         0108  Ausführtage      20\n",
      "15         0108  Ausfalltage       0\n",
      "16         0109  Ausführtage      58\n",
      "17         0109  Ausfalltage       5\n",
      "18         0110  Ausführtage      34\n",
      "19         0110  Ausfalltage       0\n",
      "20         0111  Ausführtage       2\n",
      "21         0111  Ausfalltage       0\n",
      "22         0112  Ausführtage     160\n",
      "23         0112  Ausfalltage       0\n",
      "24         0113  Ausführtage      63\n",
      "25         0113  Ausfalltage      18\n",
      "26         0114  Ausführtage      33\n",
      "27         0114  Ausfalltage       0\n",
      "28         0115  Ausführtage      45\n",
      "29         0115  Ausfalltage       7\n",
      "30         0116  Ausführtage      96\n",
      "31         0116  Ausfalltage       4\n",
      "32         0120  Ausführtage       1\n",
      "33         0120  Ausfalltage       0\n",
      "34         0200  Ausführtage      57\n",
      "35         0200  Ausfalltage       1\n",
      "36         0201  Ausführtage       4\n",
      "37         0201  Ausfalltage       0\n",
      "38         0500  Ausführtage       0\n",
      "39         0500  Ausfalltage       0\n"
     ]
    }
   ],
   "source": [
    "# DataFrame erstellen\n",
    "\n",
    "import pandas as pd\n",
    "\n",
    "data_frame = pd.DataFrame(data)\n",
    "\n",
    "if verbose:\n",
    "    print(data_frame)\n"
   ]
  },
  {
   "cell_type": "code",
   "execution_count": 200,
   "id": "bfec3c58-7635-480c-b682-59ff4c661dda",
   "metadata": {},
   "outputs": [],
   "source": [
    "import numpy as np\n",
    "\n",
    "def show_values(axs, orient=\"v\", space=.01):\n",
    "    def _single(ax):\n",
    "        if orient == \"v\":\n",
    "            for p in ax.patches:\n",
    "                _x = p.get_x() + p.get_width() / 2\n",
    "                _y = p.get_y() + p.get_height() + (p.get_height()*0.01)\n",
    "                value = '{:.1f}'.format(p.get_height())\n",
    "                ax.text(_x, _y, value, ha=\"center\") \n",
    "        elif orient == \"h\":\n",
    "            for p in ax.patches:\n",
    "                _x = p.get_x() + p.get_width() + float(space)\n",
    "                _y = p.get_y() + p.get_height() - (p.get_height()*0.5)\n",
    "                value = '{:.1f}'.format(p.get_width())\n",
    "                ax.text(_x, _y, value, ha=\"left\")\n",
    "\n",
    "    if isinstance(axs, np.ndarray):\n",
    "        for idx, ax in np.ndenumerate(axs):\n",
    "            _single(ax)\n",
    "    else:\n",
    "        _single(axs)"
   ]
  },
  {
   "cell_type": "code",
   "execution_count": 208,
   "id": "734e9673-32bd-4b4b-a270-a2ede1dcd7dc",
   "metadata": {},
   "outputs": [
    {
     "data": {
      "image/png": "[encoded data removed]",
      "text/plain": [
       "<Figure size 1440x504 with 1 Axes>"
      ]
     },
     "metadata": {},
     "output_type": "display_data"
    }
   ],
   "source": [
    "# Diagramm erstellen\n",
    "\n",
    "import matplotlib.pyplot as plt\n",
    "import seaborn as sn\n",
    "\n",
    "sn.set(font_scale=1.0)\n",
    "fig, ax = plt.subplots(figsize=(20,7))\n",
    "\n",
    "palette = ['tab:green','tab:red']\n",
    "\n",
    "p = sn.barplot(data = data_frame\n",
    "            ,x = 'Kostenstelle'\n",
    "            ,y = 'Anzahl'\n",
    "            ,hue = 'Typ' \n",
    "            ,palette=palette\n",
    "            )\n",
    "\n",
    "ax.set_title(f\"Ausfalltage im {zeitpunkt} wegen Krankheit ({', '.join(ereignisse)})\", y=1, fontsize = 16)\n",
    "show_values(p)\n"
   ]
  },
  {
   "cell_type": "code",
   "execution_count": null,
   "id": "2081a490-cb2d-45cb-b2b3-c68a92dfcd6f",
   "metadata": {},
   "outputs": [],
   "source": []
  }
 ],
 "metadata": {
  "kernelspec": {
   "display_name": "Python 3 (ipykernel)",
   "language": "python",
   "name": "python3"
  },
  "language_info": {
   "codemirror_mode": {
    "name": "ipython",
    "version": 3
   },
   "file_extension": ".py",
   "mimetype": "text/x-python",
   "name": "python",
   "nbconvert_exporter": "python",
   "pygments_lexer": "ipython3",
   "version": "3.8.1"
  }
 },
 "nbformat": 4,
 "nbformat_minor": 5
}
