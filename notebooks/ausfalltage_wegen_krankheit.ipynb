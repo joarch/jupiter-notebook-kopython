{
 "cells": [
  {
   "cell_type": "code",
   "execution_count": null,
   "id": "2a314075-28ce-46e2-bee4-db5acccdfd7e",
   "metadata": {},
   "outputs": [],
   "source": [
    "# Connect to Database\n",
    "import os\n",
    "\n",
    "database_url = os.environ[\"database_url2\"]\n",
    "verbose = True\n",
    "\n",
    "from sqlalchemy import create_engine\n",
    "from sqlalchemy.orm import sessionmaker\n",
    "\n",
    "session = sessionmaker(bind=create_engine(database_url, echo=False), autoflush=False)()\n"
   ]
  },
  {
   "cell_type": "code",
   "execution_count": null,
   "id": "a4714da6-01dd-4233-88a9-50cbf1a91782",
   "metadata": {},
   "outputs": [],
   "source": [
    "# Select Daten aus der stunden Datenbank\n",
    "from sqlalchemy import func\n",
    "\n",
    "ereignisse = [\"K\", \"COR\"]\n",
    "zeitpunkt = \"Monat Oktober 2021\"\n",
    "\n",
    "from kostunden.database.models import Mitarbeiterereignis, Mitarbeiter, Kostenstelle\n",
    "\n",
    "q = session.query(Kostenstelle.kennung, func.count(Kostenstelle.kennung)).select_from(Mitarbeiterereignis).join(Mitarbeiter).join(Kostenstelle, Kostenstelle.id == Mitarbeiter.kostenstelle_id) \\\n",
    "    .filter(Mitarbeiterereignis.datum >= '2021-10-01', Mitarbeiterereignis.datum <= '2021-10-31')\\\n",
    "    .filter(Mitarbeiterereignis.ganztaegig.in_(ereignisse))\\\n",
    "    .order_by(Kostenstelle.kennung)\\\n",
    "    .group_by(Kostenstelle.kennung)\n",
    "  \n",
    "kostenstelle_ausfalltage = {d[0]: d[1] for d in list(q)}\n",
    "\n",
    "if verbose:\n",
    "    print(kostenstelle_ausfalltage)"
   ]
  },
  {
   "cell_type": "code",
   "execution_count": null,
   "id": "0310d1a7-690f-43ee-aa01-cc8404b9943a",
   "metadata": {},
   "outputs": [],
   "source": [
    "# Select Daten aus der stunden Datenbank\n",
    "from sqlalchemy import func\n",
    "\n",
    "from kostunden.database.models import Mitarbeiterstunden\n",
    "\n",
    "q = session.query(Kostenstelle.kennung, func.count(Kostenstelle.kennung)).select_from(Mitarbeiterstunden).join(Kostenstelle) \\\n",
    "    .filter(Mitarbeiterstunden.datum >= '2021-10-01', Mitarbeiterstunden.datum <= '2021-10-31')\\\n",
    "    .order_by(Kostenstelle.kennung) \\\n",
    "    .group_by(Kostenstelle.kennung)\n",
    "\n",
    "kostenstelle_ausfuehrtage = {d[0]: d[1] for d in list(q)}\n",
    "\n",
    "if verbose:\n",
    "    print(kostenstelle_ausfuehrtage)\n",
    "    "
   ]
  },
  {
   "cell_type": "code",
   "execution_count": null,
   "id": "c33255c5-4498-4899-8cbd-6271629b7da2",
   "metadata": {},
   "outputs": [],
   "source": [
    "# merge Listen Ausfalltage und Ausfühtage\n",
    "\n",
    "q = session.query(Kostenstelle.kennung).order_by(\"kennung\").all()\n",
    "alle_kostenstellen = [k[0] for k in list(q)]\n",
    "\n",
    "data = list()\n",
    "for kostenstelle in alle_kostenstellen:\n",
    "    # data.append({\"kostenstelle\": kostenstelle, \"ausfuehrtage\": kostenstelle_ausfuehrtage.get(kostenstelle, 0), \"ausfalltage\": kostenstelle_ausfalltage.get(kostenstelle, 0)})\n",
    "    data.append({\"Kostenstelle\": kostenstelle, \"Typ\": \"Ausführtage\", \"Anzahl\": kostenstelle_ausfuehrtage.get(kostenstelle, 0)})\n",
    "    data.append({\"Kostenstelle\": kostenstelle, \"Typ\": \"Ausfalltage\", \"Anzahl\": kostenstelle_ausfalltage.get(kostenstelle, 0)})\n",
    "\n",
    "if verbose:\n",
    "    print(data)\n",
    "\n",
    "    "
   ]
  },
  {
   "cell_type": "code",
   "execution_count": null,
   "id": "761fa22d-cd26-41f5-951a-859641669659",
   "metadata": {},
   "outputs": [],
   "source": [
    "# DataFrame erstellen\n",
    "\n",
    "import pandas as pd\n",
    "\n",
    "data_frame = pd.DataFrame(data)\n",
    "\n",
    "if verbose:\n",
    "    print(data_frame)\n"
   ]
  },
  {
   "cell_type": "code",
   "execution_count": null,
   "id": "bfec3c58-7635-480c-b682-59ff4c661dda",
   "metadata": {},
   "outputs": [],
   "source": [
    "import numpy as np\n",
    "\n",
    "def show_values(axs, orient=\"v\", space=.01):\n",
    "    def _single(ax):\n",
    "        if orient == \"v\":\n",
    "            for p in ax.patches:\n",
    "                _x = p.get_x() + p.get_width() / 2\n",
    "                _y = p.get_y() + p.get_height() + (p.get_height()*0.01)\n",
    "                value = '{:.1f}'.format(p.get_height())\n",
    "                ax.text(_x, _y, value, ha=\"center\") \n",
    "        elif orient == \"h\":\n",
    "            for p in ax.patches:\n",
    "                _x = p.get_x() + p.get_width() + float(space)\n",
    "                _y = p.get_y() + p.get_height() - (p.get_height()*0.5)\n",
    "                value = '{:.1f}'.format(p.get_width())\n",
    "                ax.text(_x, _y, value, ha=\"left\")\n",
    "\n",
    "    if isinstance(axs, np.ndarray):\n",
    "        for idx, ax in np.ndenumerate(axs):\n",
    "            _single(ax)\n",
    "    else:\n",
    "        _single(axs)"
   ]
  },
  {
   "cell_type": "code",
   "execution_count": null,
   "id": "734e9673-32bd-4b4b-a270-a2ede1dcd7dc",
   "metadata": {},
   "outputs": [],
   "source": [
    "# Diagramm erstellen\n",
    "\n",
    "import matplotlib.pyplot as plt\n",
    "import seaborn as sn\n",
    "\n",
    "sn.set(font_scale=1.0)\n",
    "fig, ax = plt.subplots(figsize=(20,7))\n",
    "\n",
    "palette = ['tab:green','tab:red']\n",
    "\n",
    "p = sn.barplot(data = data_frame\n",
    "            ,x = 'Kostenstelle'\n",
    "            ,y = 'Anzahl'\n",
    "            ,hue = 'Typ' \n",
    "            ,palette=palette\n",
    "            )\n",
    "\n",
    "ax.set_title(f\"Ausfalltage im {zeitpunkt} wegen Krankheit ({', '.join(ereignisse)})\", y=1, fontsize = 16)\n",
    "show_values(p)\n"
   ]
  },
  {
   "cell_type": "code",
   "execution_count": null,
   "id": "2081a490-cb2d-45cb-b2b3-c68a92dfcd6f",
   "metadata": {},
   "outputs": [],
   "source": []
  }
 ],
 "metadata": {
  "kernelspec": {
   "display_name": "Python 3 (ipykernel)",
   "language": "python",
   "name": "python3"
  },
  "language_info": {
   "codemirror_mode": {
    "name": "ipython",
    "version": 3
   },
   "file_extension": ".py",
   "mimetype": "text/x-python",
   "name": "python",
   "nbconvert_exporter": "python",
   "pygments_lexer": "ipython3",
   "version": "3.8.1"
  }
 },
 "nbformat": 4,
 "nbformat_minor": 5
}
