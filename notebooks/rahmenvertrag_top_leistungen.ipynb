{
 "cells": [
  {
   "cell_type": "code",
   "execution_count": null,
   "id": "72a10a82-977c-4afb-baf6-f9ac2f32b20f",
   "metadata": {},
   "outputs": [],
   "source": [
    "stlv = 521\n",
    "version = 211\n",
    "\n",
    "max_anzahl_im_aufmass = 30\n"
   ]
  },
  {
   "cell_type": "code",
   "execution_count": null,
   "id": "97229c7a-1bb0-4764-bf70-d836bba0c226",
   "metadata": {},
   "outputs": [],
   "source": [
    "'''\n",
    "SQL\n",
    "select count(*) anzahl, p.pschluessel, p.bl, p.la, p.text from leistung l\n",
    "join position2 p on p.referenz_id = l.leistung_id\n",
    "where l.stlv=521 and l.version='211'\n",
    "group by p.pschluessel, p.text, p.bl, p.la\n",
    "order by anzahl desc;\n",
    "'''\n",
    "\n",
    "# Connect to Database\n",
    "import os\n",
    "\n",
    "database_url = os.environ[\"database_url\"]\n",
    "verbose = False\n",
    "\n",
    "from sqlalchemy import create_engine\n",
    "from sqlalchemy.orm import sessionmaker\n",
    "\n",
    "session = sessionmaker(bind=create_engine(database_url, echo=False), autoflush=False)()"
   ]
  },
  {
   "cell_type": "code",
   "execution_count": null,
   "id": "7aec85df-7024-4b51-b9e1-ea3d724589bc",
   "metadata": {},
   "outputs": [],
   "source": [
    "from kolonne.database.models import Position2, Leistung\n",
    "from sqlalchemy import func, desc\n",
    "\n",
    "leistungen_im_aufmass = session.query(Position2.pschluessel, Position2.bl, Position2.la, Position2.text, func.count(Position2.pschluessel)).select_from(Position2).join(Leistung, Leistung.leistung_id==Position2.referenz_id)\\\n",
    ".filter(Position2.typ == 'L').filter(Leistung.stlv == stlv, Leistung.version == str(version)).group_by(Position2.pschluessel, Position2.bl, Position2.la, Position2.text)\\\n",
    ".order_by(desc(func.count(Position2.pschluessel))).all()\n",
    "\n",
    "# print(leistungen_im_aufmass)"
   ]
  },
  {
   "cell_type": "code",
   "execution_count": null,
   "id": "98e413f8-eafd-49bb-985f-0f30933a2d89",
   "metadata": {},
   "outputs": [],
   "source": [
    "data = list()\n",
    "\n",
    "for l in leistungen_im_aufmass:\n",
    "    data.append({\"Pschlüssel\": l[0], \"Bl\": l[1], \"La\": l[2], \"Text\": l[3][0:30], \"Anzahl\": l[4]})\n",
    "    if len(data) > max_anzahl_im_aufmass:\n",
    "        break;\n",
    "\n",
    "# [{'Pschlüssel': '20.20.022.02.16', 'Anzahl': 482}, ... ]\n"
   ]
  },
  {
   "cell_type": "code",
   "execution_count": null,
   "id": "3b2e70ad-e92d-4113-ba43-341b06113eba",
   "metadata": {},
   "outputs": [],
   "source": [
    "# DataFrame erstellen\n",
    "\n",
    "import pandas as pd\n",
    "\n",
    "data_frame = pd.DataFrame(data)\n",
    "\n",
    "print(data_frame)"
   ]
  },
  {
   "cell_type": "code",
   "execution_count": null,
   "id": "15039bc5-1a47-436e-aea5-ddf2174d2b3a",
   "metadata": {},
   "outputs": [],
   "source": [
    "import numpy as np\n",
    "\n",
    "def show_values(axs, orient=\"v\", space=.01):\n",
    "    def _single(ax):\n",
    "        if orient == \"v\":\n",
    "            for p in ax.patches:\n",
    "                _x = p.get_x() + p.get_width() / 2\n",
    "                _y = p.get_y() + p.get_height() + (p.get_height()*0.01)\n",
    "                value = '{:.1f}'.format(p.get_height())\n",
    "                ax.text(_x, _y, value, ha=\"center\") \n",
    "        elif orient == \"h\":\n",
    "            for p in ax.patches:\n",
    "                _x = p.get_x() + p.get_width() + float(space)\n",
    "                _y = p.get_y() + p.get_height() - (p.get_height()*0.5)\n",
    "                value = '{:.1f}'.format(p.get_width())\n",
    "                ax.text(_x, _y, value, ha=\"left\")\n",
    "\n",
    "    if isinstance(axs, np.ndarray):\n",
    "        for idx, ax in np.ndenumerate(axs):\n",
    "            _single(ax)\n",
    "    else:\n",
    "        _single(axs)\n",
    "        "
   ]
  },
  {
   "cell_type": "code",
   "execution_count": null,
   "id": "49a515f4-7d36-4205-8f04-b859d533e99f",
   "metadata": {},
   "outputs": [],
   "source": [
    "# Diagramm erstellen\n",
    "\n",
    "import matplotlib.pyplot as plt\n",
    "import seaborn as sn\n",
    "\n",
    "sn.set(font_scale=1.0)\n",
    "fig, ax = plt.subplots(figsize=(20,7))\n",
    "\n",
    "palette = ['tab:green','tab:red']\n",
    "\n",
    "labels = data_frame.loc[:,'Pschlüssel'].values\n",
    "ax.set_xticks(range(len(labels)))\n",
    "ax.set_xticklabels(labels, rotation=60)\n",
    "\n",
    "p = sn.barplot(data = data_frame\n",
    "            ,x = 'Pschlüssel'\n",
    "            ,y = 'Anzahl'\n",
    "            ,palette=palette\n",
    "            )\n",
    "\n",
    "ax.set_title(f\"Top {max_anzahl_im_aufmass} Leistungen: {stlv}/{version}\", y=1, fontsize = 16)\n",
    "show_values(p)\n"
   ]
  },
  {
   "cell_type": "code",
   "execution_count": null,
   "id": "ab604896-8bb9-4e55-8c36-1858c5d2bc0b",
   "metadata": {},
   "outputs": [],
   "source": []
  }
 ],
 "metadata": {
  "kernelspec": {
   "display_name": "Python 3 (ipykernel)",
   "language": "python",
   "name": "python3"
  },
  "language_info": {
   "codemirror_mode": {
    "name": "ipython",
    "version": 3
   },
   "file_extension": ".py",
   "mimetype": "text/x-python",
   "name": "python",
   "nbconvert_exporter": "python",
   "pygments_lexer": "ipython3",
   "version": "3.8.1"
  }
 },
 "nbformat": 4,
 "nbformat_minor": 5
}
